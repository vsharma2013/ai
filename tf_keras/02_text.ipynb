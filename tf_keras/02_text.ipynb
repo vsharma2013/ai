{
 "cells": [
  {
   "cell_type": "code",
   "execution_count": 1,
   "metadata": {},
   "outputs": [
    {
     "name": "stderr",
     "output_type": "stream",
     "text": [
      "/anaconda3/lib/python3.6/site-packages/h5py/__init__.py:36: FutureWarning: Conversion of the second argument of issubdtype from `float` to `np.floating` is deprecated. In future, it will be treated as `np.float64 == np.dtype(float).type`.\n",
      "  from ._conv import register_converters as _register_converters\n",
      "Using TensorFlow backend.\n"
     ]
    }
   ],
   "source": [
    "import tensorflow as tf\n",
    "from tensorflow import keras\n",
    "import numpy as np\n",
    "import matplotlib.pyplot as plt\n",
    "from keras.preprocessing.sequence import pad_sequences\n",
    "%matplotlib inline"
   ]
  },
  {
   "cell_type": "code",
   "execution_count": 2,
   "metadata": {},
   "outputs": [],
   "source": [
    "imdb = keras.datasets.imdb\n",
    "(train_data, train_labels), (test_data, test_labels) = imdb.load_data(num_words=10000)"
   ]
  },
  {
   "cell_type": "code",
   "execution_count": 3,
   "metadata": {},
   "outputs": [],
   "source": [
    "word_index = imdb.get_word_index()"
   ]
  },
  {
   "cell_type": "code",
   "execution_count": 4,
   "metadata": {},
   "outputs": [],
   "source": [
    "# The first indices are reserved\n",
    "word_index = {k:(v+3) for k,v in word_index.items()} \n",
    "word_index[\"<PAD>\"] = 0\n",
    "word_index[\"<START>\"] = 1\n",
    "word_index[\"<UNK>\"] = 2  # unknown\n",
    "word_index[\"<UNUSED>\"] = 3\n",
    "\n",
    "reverse_word_index = dict([(value, key) for (key, value) in word_index.items()])\n",
    "\n",
    "def decode_review(text):\n",
    "    return ' '.join([reverse_word_index.get(i, '?') for i in text])"
   ]
  },
  {
   "cell_type": "raw",
   "metadata": {},
   "source": [
    "print(decode_review(train_data[0]))"
   ]
  },
  {
   "cell_type": "code",
   "execution_count": 6,
   "metadata": {},
   "outputs": [
    {
     "data": {
      "text/plain": [
       "(256, 256)"
      ]
     },
     "execution_count": 6,
     "metadata": {},
     "output_type": "execute_result"
    }
   ],
   "source": [
    "train_data = pad_sequences(train_data, value=0, padding='post', maxlen=256)\n",
    "test_data = pad_sequences(test_data, value=0, padding='post', maxlen=256)\n",
    "len(train_data[0]), len(train_data[1])\n",
    "len(test_data[0]), len(test_data[1])"
   ]
  },
  {
   "cell_type": "code",
   "execution_count": 9,
   "metadata": {},
   "outputs": [],
   "source": [
    "vocab_size = 10000\n",
    "model = keras.Sequential([\n",
    "    keras.layers.Embedding(vocab_size, 16),\n",
    "    keras.layers.GlobalAveragePooling1D(),\n",
    "    keras.layers.Dense(16, activation=tf.nn.relu),\n",
    "    keras.layers.Dense(1, activation=tf.nn.sigmoid)\n",
    "])"
   ]
  },
  {
   "cell_type": "code",
   "execution_count": 12,
   "metadata": {},
   "outputs": [],
   "source": [
    "model.compile(\n",
    "    optimizer=tf.train.AdamOptimizer(),\n",
    "    loss='binary_crossentropy',\n",
    "    metrics=['accuracy']\n",
    ")"
   ]
  },
  {
   "cell_type": "code",
   "execution_count": 13,
   "metadata": {},
   "outputs": [],
   "source": [
    "partial_x_train = train_data[:10000]\n",
    "x_val = train_data[10000:]\n",
    "partial_y_train = train_labels[:10000]\n",
    "y_val = train_labels[10000:]"
   ]
  },
  {
   "cell_type": "code",
   "execution_count": 19,
   "metadata": {},
   "outputs": [
    {
     "name": "stdout",
     "output_type": "stream",
     "text": [
      "Train on 10000 samples, validate on 15000 samples\n",
      "Epoch 1/40\n",
      "10000/10000 [==============================] - 0s 23us/step - loss: 0.2070 - acc: 0.9342 - val_loss: 0.3192 - val_acc: 0.8701\n",
      "Epoch 2/40\n",
      "10000/10000 [==============================] - 0s 22us/step - loss: 0.2018 - acc: 0.9365 - val_loss: 0.3161 - val_acc: 0.8724\n",
      "Epoch 3/40\n",
      "10000/10000 [==============================] - 0s 22us/step - loss: 0.1959 - acc: 0.9379 - val_loss: 0.3155 - val_acc: 0.8723\n",
      "Epoch 4/40\n",
      "10000/10000 [==============================] - 0s 22us/step - loss: 0.1905 - acc: 0.9393 - val_loss: 0.3131 - val_acc: 0.8738\n",
      "Epoch 5/40\n",
      "10000/10000 [==============================] - 0s 23us/step - loss: 0.1855 - acc: 0.9424 - val_loss: 0.3119 - val_acc: 0.8742\n",
      "Epoch 6/40\n",
      "10000/10000 [==============================] - 0s 23us/step - loss: 0.1802 - acc: 0.9442 - val_loss: 0.3111 - val_acc: 0.8745\n",
      "Epoch 7/40\n",
      "10000/10000 [==============================] - 0s 22us/step - loss: 0.1757 - acc: 0.9458 - val_loss: 0.3109 - val_acc: 0.8749\n",
      "Epoch 8/40\n",
      "10000/10000 [==============================] - 0s 22us/step - loss: 0.1716 - acc: 0.9474 - val_loss: 0.3093 - val_acc: 0.8747\n",
      "Epoch 9/40\n",
      "10000/10000 [==============================] - 0s 22us/step - loss: 0.1665 - acc: 0.9493 - val_loss: 0.3100 - val_acc: 0.8753\n",
      "Epoch 10/40\n",
      "10000/10000 [==============================] - 0s 22us/step - loss: 0.1620 - acc: 0.9512 - val_loss: 0.3088 - val_acc: 0.8745\n",
      "Epoch 11/40\n",
      "10000/10000 [==============================] - 0s 25us/step - loss: 0.1582 - acc: 0.9518 - val_loss: 0.3085 - val_acc: 0.8749\n",
      "Epoch 12/40\n",
      "10000/10000 [==============================] - 0s 25us/step - loss: 0.1541 - acc: 0.9532 - val_loss: 0.3078 - val_acc: 0.8759\n",
      "Epoch 13/40\n",
      "10000/10000 [==============================] - 0s 25us/step - loss: 0.1501 - acc: 0.9557 - val_loss: 0.3082 - val_acc: 0.8749\n",
      "Epoch 14/40\n",
      "10000/10000 [==============================] - 0s 25us/step - loss: 0.1463 - acc: 0.9571 - val_loss: 0.3089 - val_acc: 0.8749\n",
      "Epoch 15/40\n",
      "10000/10000 [==============================] - 0s 25us/step - loss: 0.1424 - acc: 0.9582 - val_loss: 0.3084 - val_acc: 0.8761\n",
      "Epoch 16/40\n",
      "10000/10000 [==============================] - 0s 24us/step - loss: 0.1390 - acc: 0.9606 - val_loss: 0.3083 - val_acc: 0.8764\n",
      "Epoch 17/40\n",
      "10000/10000 [==============================] - 0s 25us/step - loss: 0.1351 - acc: 0.9614 - val_loss: 0.3085 - val_acc: 0.8761\n",
      "Epoch 18/40\n",
      "10000/10000 [==============================] - 0s 25us/step - loss: 0.1320 - acc: 0.9618 - val_loss: 0.3092 - val_acc: 0.8757\n",
      "Epoch 19/40\n",
      "10000/10000 [==============================] - 0s 24us/step - loss: 0.1291 - acc: 0.9633 - val_loss: 0.3099 - val_acc: 0.8756\n",
      "Epoch 20/40\n",
      "10000/10000 [==============================] - 0s 26us/step - loss: 0.1253 - acc: 0.9654 - val_loss: 0.3102 - val_acc: 0.8763\n",
      "Epoch 21/40\n",
      "10000/10000 [==============================] - 0s 25us/step - loss: 0.1220 - acc: 0.9666 - val_loss: 0.3105 - val_acc: 0.8762\n",
      "Epoch 22/40\n",
      "10000/10000 [==============================] - 0s 22us/step - loss: 0.1191 - acc: 0.9678 - val_loss: 0.3114 - val_acc: 0.8770\n",
      "Epoch 23/40\n",
      "10000/10000 [==============================] - 0s 24us/step - loss: 0.1162 - acc: 0.9692 - val_loss: 0.3121 - val_acc: 0.8760\n",
      "Epoch 24/40\n",
      "10000/10000 [==============================] - 0s 25us/step - loss: 0.1131 - acc: 0.9708 - val_loss: 0.3134 - val_acc: 0.8763\n",
      "Epoch 25/40\n",
      "10000/10000 [==============================] - 0s 24us/step - loss: 0.1104 - acc: 0.9718 - val_loss: 0.3142 - val_acc: 0.8761\n",
      "Epoch 26/40\n",
      "10000/10000 [==============================] - 0s 23us/step - loss: 0.1076 - acc: 0.9726 - val_loss: 0.3155 - val_acc: 0.8767\n",
      "Epoch 27/40\n",
      "10000/10000 [==============================] - 0s 23us/step - loss: 0.1051 - acc: 0.9734 - val_loss: 0.3160 - val_acc: 0.8767\n",
      "Epoch 28/40\n",
      "10000/10000 [==============================] - 0s 23us/step - loss: 0.1022 - acc: 0.9744 - val_loss: 0.3172 - val_acc: 0.8771\n",
      "Epoch 29/40\n",
      "10000/10000 [==============================] - 0s 23us/step - loss: 0.1002 - acc: 0.9746 - val_loss: 0.3194 - val_acc: 0.8764\n",
      "Epoch 30/40\n",
      "10000/10000 [==============================] - 0s 25us/step - loss: 0.0975 - acc: 0.9756 - val_loss: 0.3210 - val_acc: 0.8765\n",
      "Epoch 31/40\n",
      "10000/10000 [==============================] - 0s 25us/step - loss: 0.0958 - acc: 0.9753 - val_loss: 0.3209 - val_acc: 0.8763\n",
      "Epoch 32/40\n",
      "10000/10000 [==============================] - 0s 24us/step - loss: 0.0938 - acc: 0.9760 - val_loss: 0.3223 - val_acc: 0.8764\n",
      "Epoch 33/40\n",
      "10000/10000 [==============================] - 0s 23us/step - loss: 0.0901 - acc: 0.9781 - val_loss: 0.3243 - val_acc: 0.8767\n",
      "Epoch 34/40\n",
      "10000/10000 [==============================] - 0s 23us/step - loss: 0.0881 - acc: 0.9792 - val_loss: 0.3251 - val_acc: 0.8766\n",
      "Epoch 35/40\n",
      "10000/10000 [==============================] - 0s 25us/step - loss: 0.0858 - acc: 0.9800 - val_loss: 0.3266 - val_acc: 0.8759\n",
      "Epoch 36/40\n",
      "10000/10000 [==============================] - 0s 23us/step - loss: 0.0837 - acc: 0.9809 - val_loss: 0.3288 - val_acc: 0.8765\n",
      "Epoch 37/40\n",
      "10000/10000 [==============================] - 0s 22us/step - loss: 0.0817 - acc: 0.9814 - val_loss: 0.3301 - val_acc: 0.8769\n",
      "Epoch 38/40\n",
      "10000/10000 [==============================] - 0s 21us/step - loss: 0.0798 - acc: 0.9830 - val_loss: 0.3314 - val_acc: 0.8759\n",
      "Epoch 39/40\n",
      "10000/10000 [==============================] - 0s 22us/step - loss: 0.0779 - acc: 0.9825 - val_loss: 0.3331 - val_acc: 0.8761\n",
      "Epoch 40/40\n",
      "10000/10000 [==============================] - 0s 21us/step - loss: 0.0759 - acc: 0.9836 - val_loss: 0.3348 - val_acc: 0.8754\n"
     ]
    }
   ],
   "source": [
    "history = model.fit(x=partial_x_train, y=partial_y_train, epochs=40, validation_data=(x_val, y_val), batch_size=512, verbose=1)"
   ]
  },
  {
   "cell_type": "code",
   "execution_count": 15,
   "metadata": {},
   "outputs": [
    {
     "name": "stdout",
     "output_type": "stream",
     "text": [
      "25000/25000 [==============================] - 0s 12us/step\n"
     ]
    }
   ],
   "source": [
    "results = model.evaluate(train_data, train_labels)"
   ]
  },
  {
   "cell_type": "code",
   "execution_count": 16,
   "metadata": {},
   "outputs": [
    {
     "name": "stdout",
     "output_type": "stream",
     "text": [
      "[0.27554581503868103, 0.89608]\n"
     ]
    }
   ],
   "source": [
    "print(results)"
   ]
  },
  {
   "cell_type": "code",
   "execution_count": 20,
   "metadata": {},
   "outputs": [
    {
     "data": {
      "image/png": "[encoded data removed]",
      "text/plain": [
       "<Figure size 432x288 with 1 Axes>"
      ]
     },
     "metadata": {},
     "output_type": "display_data"
    }
   ],
   "source": [
    "history_dict = history.history\n",
    "history_dict.keys()\n",
    "\n",
    "acc = history.history['acc']\n",
    "val_acc = history.history['val_acc']\n",
    "loss = history.history['loss']\n",
    "val_loss = history.history['val_loss']\n",
    "\n",
    "epochs = range(1, len(acc) + 1)\n",
    "\n",
    "# \"bo\" is for \"blue dot\"\n",
    "plt.plot(epochs, loss, 'bo', label='Training loss')\n",
    "# b is for \"solid blue line\"\n",
    "plt.plot(epochs, val_loss, 'b', label='Validation loss')\n",
    "plt.title('Training and validation loss')\n",
    "plt.xlabel('Epochs')\n",
    "plt.ylabel('Loss')\n",
    "plt.legend()\n",
    "\n",
    "plt.show()"
   ]
  },
  {
   "cell_type": "code",
   "execution_count": null,
   "metadata": {},
   "outputs": [],
   "source": []
  }
 ],
 "metadata": {
  "kernelspec": {
   "display_name": "Python 3",
   "language": "python",
   "name": "python3"
  },
  "language_info": {
   "codemirror_mode": {
    "name": "ipython",
    "version": 3
   },
   "file_extension": ".py",
   "mimetype": "text/x-python",
   "name": "python",
   "nbconvert_exporter": "python",
   "pygments_lexer": "ipython3",
   "version": "3.6.5"
  }
 },
 "nbformat": 4,
 "nbformat_minor": 2
}
