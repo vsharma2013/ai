{
 "cells": [
  {
   "cell_type": "code",
   "execution_count": 1,
   "metadata": {},
   "outputs": [
    {
     "name": "stderr",
     "output_type": "stream",
     "text": [
      "Using TensorFlow backend.\n"
     ]
    }
   ],
   "source": [
    "import numpy as np\n",
    "from keras import layers\n",
    "from keras.layers import Input, Dense, Activation, ZeroPadding2D, BatchNormalization, Flatten, Conv2D\n",
    "from keras.layers import AveragePooling2D, MaxPooling2D, Dropout, GlobalMaxPooling2D, GlobalAveragePooling2D\n",
    "from keras.models import Model\n",
    "from keras.preprocessing import image\n",
    "from keras.utils import layer_utils\n",
    "from keras.utils.data_utils import get_file\n",
    "from keras.applications.imagenet_utils import preprocess_input\n",
    "# import pydot\n",
    "from IPython.display import SVG\n",
    "from keras.utils.vis_utils import model_to_dot\n",
    "from keras.utils import plot_model\n",
    "\n",
    "import keras.backend as K\n",
    "K.set_image_data_format('channels_last')\n",
    "import matplotlib.pyplot as plt\n",
    "from matplotlib.pyplot import imshow\n",
    "import math\n",
    "import h5py\n",
    "import matplotlib.pyplot as plt\n",
    "import scipy\n",
    "from PIL import Image\n",
    "from scipy import ndimage\n",
    "import tensorflow as tf\n",
    "from tensorflow.python.framework import ops\n",
    "from tensorflow import keras"
   ]
  },
  {
   "cell_type": "code",
   "execution_count": 2,
   "metadata": {},
   "outputs": [],
   "source": [
    "from random import randint\n",
    "from sklearn.model_selection import train_test_split"
   ]
  },
  {
   "cell_type": "code",
   "execution_count": 19,
   "metadata": {},
   "outputs": [],
   "source": [
    "\n",
    "\n",
    "train_count = 5000\n",
    "test_count = 10\n",
    "max_sent_length = 100\n",
    "embedding_size = 300\n",
    "\n",
    "X = np.random.randn(train_count, max_sent_length, embedding_size)\n",
    "Y = np.zeros((train_count, 1))\n",
    "\n",
    "x_train, x_test, y_train, y_test = train_test_split(X, Y, test_size=0.2)\n",
    "\n",
    "for i in range(x_train.shape[0]):\n",
    "    y_train[i:] = randint(0, 5)\n",
    "for i in range(x_test.shape[0]):\n",
    "    y_test[i:] = randint(0, 5)\n"
   ]
  },
  {
   "cell_type": "code",
   "execution_count": 48,
   "metadata": {},
   "outputs": [],
   "source": [
    "train_count = 50\n",
    "test_count = 10\n",
    "max_sent_length = 100\n",
    "embedding_size = 300\n",
    "label_head = [\n",
    "    [1, 0, 0, 0, 0],\n",
    "    [0, 1, 0, 0, 0],\n",
    "    [0, 0, 1, 0, 0],\n",
    "    [0, 0, 0, 1, 0],\n",
    "    [0, 0, 0, 0, 1]\n",
    "]\n",
    "label_dim = len(label_head[0])\n",
    "X = np.random.randn(train_count, max_sent_length, embedding_size)\n",
    "Y = np.zeros((train_count, label_dim))\n",
    "\n",
    "x_train, x_test, y_train, y_test = train_test_split(X, Y, test_size=0.2)\n",
    "\n",
    "for i in range(x_train.shape[0]):\n",
    "    y_train[i:] = label_head[randint(0, (label_dim - 1))]\n",
    "for i in range(x_test.shape[0]):\n",
    "    y_test[i:] = label_head[randint(0, (label_dim - 1))]"
   ]
  },
  {
   "cell_type": "code",
   "execution_count": 195,
   "metadata": {},
   "outputs": [],
   "source": [
    "def getModel(input_shape):\n",
    "    X_input = keras.layers.Input(shape=input_shape)\n",
    "    X = keras.layers.Lambda(lambda x: K.mean(x, axis=1, keepdims=True))(X_input)\n",
    "    X = keras.layers.Flatten()(X)\n",
    "    X = keras.layers.Dense(128, activation=tf.nn.relu)(X)\n",
    "    X = keras.layers.Dense(256, activation=tf.nn.relu)(X)\n",
    "    X = keras.layers.Dense(128, activation=tf.nn.relu)(X)\n",
    "    X = keras.layers.Dense(label_dim, activation=tf.nn.sigmoid)(X)\n",
    "    model = keras.Model(inputs=X_input, outputs=X, name='HappyModel')\n",
    "    return model\n"
   ]
  },
  {
   "cell_type": "code",
   "execution_count": 196,
   "metadata": {},
   "outputs": [],
   "source": [
    "model = getModel((max_sent_length, embedding_size))\n",
    "model.compile(\n",
    "    optimizer=tf.train.AdamOptimizer(),\n",
    "    loss='binary_crossentropy',\n",
    "    metrics=['accuracy']\n",
    ")"
   ]
  },
  {
   "cell_type": "code",
   "execution_count": 197,
   "metadata": {},
   "outputs": [
    {
     "name": "stdout",
     "output_type": "stream",
     "text": [
      "_________________________________________________________________\n",
      "Layer (type)                 Output Shape              Param #   \n",
      "=================================================================\n",
      "input_39 (InputLayer)        (None, 100, 300)          0         \n",
      "_________________________________________________________________\n",
      "lambda_10 (Lambda)           (None, 1, 300)            0         \n",
      "_________________________________________________________________\n",
      "flatten_33 (Flatten)         (None, 300)               0         \n",
      "_________________________________________________________________\n",
      "dense_146 (Dense)            (None, 128)               38528     \n",
      "_________________________________________________________________\n",
      "dense_147 (Dense)            (None, 256)               33024     \n",
      "_________________________________________________________________\n",
      "dense_148 (Dense)            (None, 128)               32896     \n",
      "_________________________________________________________________\n",
      "dense_149 (Dense)            (None, 5)                 645       \n",
      "=================================================================\n",
      "Total params: 105,093\n",
      "Trainable params: 105,093\n",
      "Non-trainable params: 0\n",
      "_________________________________________________________________\n"
     ]
    }
   ],
   "source": [
    "model.summary()"
   ]
  },
  {
   "cell_type": "code",
   "execution_count": 203,
   "metadata": {},
   "outputs": [
    {
     "name": "stdout",
     "output_type": "stream",
     "text": [
      "Epoch 1/30\n",
      "40/40 [==============================] - 0s 475us/step - loss: 0.2225 - acc: 0.9450\n",
      "Epoch 2/30\n",
      "40/40 [==============================] - 0s 404us/step - loss: 0.1938 - acc: 0.9650\n",
      "Epoch 3/30\n",
      "40/40 [==============================] - 0s 388us/step - loss: 0.1663 - acc: 0.9650\n",
      "Epoch 4/30\n",
      "40/40 [==============================] - 0s 379us/step - loss: 0.1404 - acc: 0.9650\n",
      "Epoch 5/30\n",
      "40/40 [==============================] - 0s 459us/step - loss: 0.1170 - acc: 0.9700\n",
      "Epoch 6/30\n",
      "40/40 [==============================] - 0s 437us/step - loss: 0.0974 - acc: 0.9850\n",
      "Epoch 7/30\n",
      "40/40 [==============================] - 0s 432us/step - loss: 0.0799 - acc: 1.0000\n",
      "Epoch 8/30\n",
      "40/40 [==============================] - 0s 540us/step - loss: 0.0651 - acc: 1.0000\n",
      "Epoch 9/30\n",
      "40/40 [==============================] - 0s 458us/step - loss: 0.0530 - acc: 1.0000\n",
      "Epoch 10/30\n",
      "40/40 [==============================] - 0s 490us/step - loss: 0.0427 - acc: 1.0000\n",
      "Epoch 11/30\n",
      "40/40 [==============================] - 0s 459us/step - loss: 0.0340 - acc: 1.0000\n",
      "Epoch 12/30\n",
      "40/40 [==============================] - 0s 351us/step - loss: 0.0269 - acc: 1.0000\n",
      "Epoch 13/30\n",
      "40/40 [==============================] - 0s 433us/step - loss: 0.0213 - acc: 1.0000\n",
      "Epoch 14/30\n",
      "40/40 [==============================] - 0s 456us/step - loss: 0.0163 - acc: 1.0000\n",
      "Epoch 15/30\n",
      "40/40 [==============================] - 0s 538us/step - loss: 0.0132 - acc: 1.0000\n",
      "Epoch 16/30\n",
      "40/40 [==============================] - 0s 536us/step - loss: 0.0103 - acc: 1.0000\n",
      "Epoch 17/30\n",
      "40/40 [==============================] - 0s 449us/step - loss: 0.0082 - acc: 1.0000\n",
      "Epoch 18/30\n",
      "40/40 [==============================] - 0s 407us/step - loss: 0.0064 - acc: 1.0000\n",
      "Epoch 19/30\n",
      "40/40 [==============================] - 0s 359us/step - loss: 0.0053 - acc: 1.0000\n",
      "Epoch 20/30\n",
      "40/40 [==============================] - 0s 506us/step - loss: 0.0043 - acc: 1.0000\n",
      "Epoch 21/30\n",
      "40/40 [==============================] - 0s 417us/step - loss: 0.0036 - acc: 1.0000\n",
      "Epoch 22/30\n",
      "40/40 [==============================] - 0s 458us/step - loss: 0.0031 - acc: 1.0000\n",
      "Epoch 23/30\n",
      "40/40 [==============================] - 0s 392us/step - loss: 0.0027 - acc: 1.0000\n",
      "Epoch 24/30\n",
      "40/40 [==============================] - 0s 475us/step - loss: 0.0024 - acc: 1.0000\n",
      "Epoch 25/30\n",
      "40/40 [==============================] - 0s 440us/step - loss: 0.0021 - acc: 1.0000\n",
      "Epoch 26/30\n",
      "40/40 [==============================] - 0s 452us/step - loss: 0.0019 - acc: 1.0000\n",
      "Epoch 27/30\n",
      "40/40 [==============================] - 0s 420us/step - loss: 0.0017 - acc: 1.0000\n",
      "Epoch 28/30\n",
      "40/40 [==============================] - 0s 545us/step - loss: 0.0016 - acc: 1.0000\n",
      "Epoch 29/30\n",
      "40/40 [==============================] - 0s 462us/step - loss: 0.0014 - acc: 1.0000\n",
      "Epoch 30/30\n",
      "40/40 [==============================] - 0s 527us/step - loss: 0.0013 - acc: 1.0000\n"
     ]
    },
    {
     "data": {
      "text/plain": [
       "<tensorflow.python.keras.callbacks.History at 0x7f1c93aa4160>"
      ]
     },
     "execution_count": 203,
     "metadata": {},
     "output_type": "execute_result"
    }
   ],
   "source": [
    "model.fit(x=x_train, y=y_train, epochs=30)"
   ]
  },
  {
   "cell_type": "code",
   "execution_count": 204,
   "metadata": {},
   "outputs": [
    {
     "name": "stdout",
     "output_type": "stream",
     "text": [
      "10/10 [==============================] - 0s 657us/step\n",
      "Loss = 0.63  and test accuracy = 0.82\n"
     ]
    }
   ],
   "source": [
    "test_loss, test_acc = model.evaluate(x_test, y_test)\n",
    "print('Loss = %.2f  and test accuracy = %.2f' % (test_loss, test_acc))"
   ]
  },
  {
   "cell_type": "code",
   "execution_count": 205,
   "metadata": {},
   "outputs": [
    {
     "data": {
      "text/plain": [
       "array([[2.7706863e-02, 8.1126634e-03, 5.0544575e-02, 4.6070855e-02,\n",
       "        1.8722810e-02],\n",
       "       [9.9107973e-02, 5.8501951e-02, 2.9560188e-03, 1.2464639e-01,\n",
       "        1.6373907e-01],\n",
       "       [6.1136480e-02, 2.1559885e-02, 6.6424310e-02, 1.3963640e-01,\n",
       "        8.9472450e-02],\n",
       "       [7.8938585e-03, 1.3653224e-03, 1.6141546e-01, 2.9851133e-01,\n",
       "        8.7973073e-02],\n",
       "       [1.5549799e-02, 9.1083091e-01, 7.0839003e-03, 2.7544316e-02,\n",
       "        1.7734746e-02],\n",
       "       [3.4940448e-02, 1.1669303e-03, 1.5184385e-01, 2.3161526e-01,\n",
       "        3.1316010e-03],\n",
       "       [9.1959909e-02, 4.8002210e-02, 1.5520123e-01, 2.9238725e-02,\n",
       "        9.9846959e-02],\n",
       "       [1.2991412e-01, 7.6283081e-03, 5.4809773e-01, 1.3544178e-01,\n",
       "        4.3616220e-03],\n",
       "       [1.4085225e-02, 4.6511908e-04, 9.7253859e-02, 4.9876934e-01,\n",
       "        2.2728758e-01],\n",
       "       [1.2491641e-02, 4.4266723e-02, 4.8149689e-03, 4.6826418e-02,\n",
       "        6.0761929e-01]], dtype=float32)"
      ]
     },
     "execution_count": 205,
     "metadata": {},
     "output_type": "execute_result"
    }
   ],
   "source": [
    "model.predict(x_test)"
   ]
  },
  {
   "cell_type": "code",
   "execution_count": 201,
   "metadata": {},
   "outputs": [
    {
     "data": {
      "text/plain": [
       "array([[0., 0., 1., 0., 0.],\n",
       "       [0., 0., 0., 0., 1.],\n",
       "       [0., 0., 1., 0., 0.],\n",
       "       [0., 0., 0., 0., 1.],\n",
       "       [0., 0., 1., 0., 0.],\n",
       "       [0., 0., 0., 0., 1.],\n",
       "       [1., 0., 0., 0., 0.],\n",
       "       [0., 0., 1., 0., 0.],\n",
       "       [0., 0., 0., 0., 1.],\n",
       "       [0., 0., 0., 0., 1.]])"
      ]
     },
     "execution_count": 201,
     "metadata": {},
     "output_type": "execute_result"
    }
   ],
   "source": [
    "y_test"
   ]
  },
  {
   "cell_type": "code",
   "execution_count": null,
   "metadata": {},
   "outputs": [],
   "source": []
  }
 ],
 "metadata": {
  "kernelspec": {
   "display_name": "Python 3",
   "language": "python",
   "name": "python3"
  },
  "language_info": {
   "codemirror_mode": {
    "name": "ipython",
    "version": 3
   },
   "file_extension": ".py",
   "mimetype": "text/x-python",
   "name": "python",
   "nbconvert_exporter": "python",
   "pygments_lexer": "ipython3",
   "version": "3.5.2"
  }
 },
 "nbformat": 4,
 "nbformat_minor": 2
}
