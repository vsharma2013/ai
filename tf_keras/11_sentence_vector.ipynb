{
 "cells": [
  {
   "cell_type": "code",
   "execution_count": 5,
   "metadata": {},
   "outputs": [],
   "source": [
    "import numpy as np\n",
    "import tensorflow as tf\n",
    "from tensorflow import keras\n",
    "### hack tf-keras to appear as top level keras\n",
    "import sys\n",
    "sys.modules['keras'] = keras\n",
    "### end of hack\n",
    "from keras import layers\n",
    "from keras.layers import Input, Dense, Activation, ZeroPadding2D, BatchNormalization, Flatten, Conv2D\n",
    "from keras.layers import AveragePooling2D, MaxPooling2D, Dropout, GlobalMaxPooling2D, GlobalAveragePooling2D\n",
    "from keras.models import Model\n",
    "from keras.preprocessing import image\n",
    "# from keras.utils import layer_utils\n",
    "# from keras.utils.data_utils import get_file\n",
    "# from keras.applications.imagenet_utils import preprocess_input\n",
    "# import pydot\n",
    "# from IPython.display import SVG\n",
    "# from keras.utils.vis_utils import model_to_dot\n",
    "# from keras.utils import plot_model\n",
    "\n",
    "import keras.backend as K\n",
    "K.set_image_data_format('channels_last')\n",
    "import matplotlib.pyplot as plt\n",
    "from matplotlib.pyplot import imshow\n",
    "import math\n",
    "import h5py\n",
    "import matplotlib.pyplot as plt\n",
    "import scipy\n",
    "from PIL import Image\n",
    "from scipy import ndimage\n",
    "from tensorflow.python.framework import ops\n"
   ]
  },
  {
   "cell_type": "code",
   "execution_count": 6,
   "metadata": {},
   "outputs": [],
   "source": [
    "from random import randint\n",
    "from sklearn.model_selection import train_test_split"
   ]
  },
  {
   "cell_type": "code",
   "execution_count": 19,
   "metadata": {},
   "outputs": [],
   "source": [
    "\n",
    "\n",
    "train_count = 5000\n",
    "test_count = 10\n",
    "max_sent_length = 100\n",
    "embedding_size = 300\n",
    "\n",
    "X = np.random.randn(train_count, max_sent_length, embedding_size)\n",
    "Y = np.zeros((train_count, 1))\n",
    "\n",
    "x_train, x_test, y_train, y_test = train_test_split(X, Y, test_size=0.2)\n",
    "\n",
    "for i in range(x_train.shape[0]):\n",
    "    y_train[i:] = randint(0, 5)\n",
    "for i in range(x_test.shape[0]):\n",
    "    y_test[i:] = randint(0, 5)\n"
   ]
  },
  {
   "cell_type": "code",
   "execution_count": 7,
   "metadata": {},
   "outputs": [],
   "source": [
    "train_count = 50\n",
    "test_count = 10\n",
    "max_sent_length = 100\n",
    "embedding_size = 300\n",
    "label_head = [\n",
    "    [1, 0, 0, 0, 0],\n",
    "    [0, 1, 0, 0, 0],\n",
    "    [0, 0, 1, 0, 0],\n",
    "    [0, 0, 0, 1, 0],\n",
    "    [0, 0, 0, 0, 1]\n",
    "]\n",
    "label_dim = len(label_head[0])\n",
    "X = np.random.randn(train_count, max_sent_length, embedding_size)\n",
    "Y = np.zeros((train_count, label_dim))\n",
    "\n",
    "x_train, x_test, y_train, y_test = train_test_split(X, Y, test_size=0.2)\n",
    "\n",
    "for i in range(x_train.shape[0]):\n",
    "    y_train[i:] = label_head[randint(0, (label_dim - 1))]\n",
    "for i in range(x_test.shape[0]):\n",
    "    y_test[i:] = label_head[randint(0, (label_dim - 1))]"
   ]
  },
  {
   "cell_type": "code",
   "execution_count": 8,
   "metadata": {},
   "outputs": [],
   "source": [
    "def getModel(input_shape):\n",
    "    X_input = keras.layers.Input(shape=input_shape)\n",
    "    X = keras.layers.Lambda(lambda x: K.mean(x, axis=1, keepdims=True))(X_input)\n",
    "    X = keras.layers.Flatten()(X)\n",
    "    X = keras.layers.Dense(128, activation=tf.nn.relu)(X)\n",
    "    X = keras.layers.Dense(256, activation=tf.nn.relu)(X)\n",
    "    X = keras.layers.Dense(128, activation=tf.nn.relu)(X)\n",
    "    X = keras.layers.Dense(label_dim, activation=tf.nn.sigmoid)(X)\n",
    "    model = keras.Model(inputs=X_input, outputs=X, name='HappyModel')\n",
    "    return model\n"
   ]
  },
  {
   "cell_type": "code",
   "execution_count": 9,
   "metadata": {},
   "outputs": [],
   "source": [
    "model = getModel((max_sent_length, embedding_size))\n",
    "model.compile(\n",
    "    optimizer=tf.train.AdamOptimizer(),\n",
    "    loss='binary_crossentropy',\n",
    "    metrics=['accuracy']\n",
    ")"
   ]
  },
  {
   "cell_type": "code",
   "execution_count": 10,
   "metadata": {},
   "outputs": [
    {
     "name": "stdout",
     "output_type": "stream",
     "text": [
      "_________________________________________________________________\n",
      "Layer (type)                 Output Shape              Param #   \n",
      "=================================================================\n",
      "input_1 (InputLayer)         (None, 100, 300)          0         \n",
      "_________________________________________________________________\n",
      "lambda (Lambda)              (None, 1, 300)            0         \n",
      "_________________________________________________________________\n",
      "flatten (Flatten)            (None, 300)               0         \n",
      "_________________________________________________________________\n",
      "dense (Dense)                (None, 128)               38528     \n",
      "_________________________________________________________________\n",
      "dense_1 (Dense)              (None, 256)               33024     \n",
      "_________________________________________________________________\n",
      "dense_2 (Dense)              (None, 128)               32896     \n",
      "_________________________________________________________________\n",
      "dense_3 (Dense)              (None, 5)                 645       \n",
      "=================================================================\n",
      "Total params: 105,093\n",
      "Trainable params: 105,093\n",
      "Non-trainable params: 0\n",
      "_________________________________________________________________\n"
     ]
    }
   ],
   "source": [
    "model.summary()"
   ]
  },
  {
   "cell_type": "code",
   "execution_count": 11,
   "metadata": {},
   "outputs": [
    {
     "name": "stdout",
     "output_type": "stream",
     "text": [
      "Epoch 1/30\n",
      "40/40 [==============================] - 1s 20ms/step - loss: 0.6885 - acc: 0.6000\n",
      "Epoch 2/30\n",
      "40/40 [==============================] - 0s 366us/step - loss: 0.6562 - acc: 0.8100\n",
      "Epoch 3/30\n",
      "40/40 [==============================] - 0s 496us/step - loss: 0.6270 - acc: 0.8000\n",
      "Epoch 4/30\n",
      "40/40 [==============================] - 0s 391us/step - loss: 0.5958 - acc: 0.8000\n",
      "Epoch 5/30\n",
      "40/40 [==============================] - 0s 306us/step - loss: 0.5616 - acc: 0.8000\n",
      "Epoch 6/30\n",
      "40/40 [==============================] - 0s 353us/step - loss: 0.5269 - acc: 0.8000\n",
      "Epoch 7/30\n",
      "40/40 [==============================] - 0s 351us/step - loss: 0.4931 - acc: 0.8000\n",
      "Epoch 8/30\n",
      "40/40 [==============================] - 0s 377us/step - loss: 0.4635 - acc: 0.8000\n",
      "Epoch 9/30\n",
      "40/40 [==============================] - 0s 384us/step - loss: 0.4429 - acc: 0.8000\n",
      "Epoch 10/30\n",
      "40/40 [==============================] - 0s 393us/step - loss: 0.4315 - acc: 0.8000\n",
      "Epoch 11/30\n",
      "40/40 [==============================] - 0s 390us/step - loss: 0.4222 - acc: 0.8000\n",
      "Epoch 12/30\n",
      "40/40 [==============================] - 0s 285us/step - loss: 0.4105 - acc: 0.8000\n",
      "Epoch 13/30\n",
      "40/40 [==============================] - 0s 333us/step - loss: 0.3922 - acc: 0.8000\n",
      "Epoch 14/30\n",
      "40/40 [==============================] - 0s 392us/step - loss: 0.3689 - acc: 0.8000\n",
      "Epoch 15/30\n",
      "40/40 [==============================] - 0s 341us/step - loss: 0.3445 - acc: 0.8050\n",
      "Epoch 16/30\n",
      "40/40 [==============================] - 0s 342us/step - loss: 0.3194 - acc: 0.8450\n",
      "Epoch 17/30\n",
      "40/40 [==============================] - 0s 401us/step - loss: 0.2946 - acc: 0.8900\n",
      "Epoch 18/30\n",
      "40/40 [==============================] - 0s 324us/step - loss: 0.2690 - acc: 0.9150\n",
      "Epoch 19/30\n",
      "40/40 [==============================] - 0s 387us/step - loss: 0.2424 - acc: 0.9300\n",
      "Epoch 20/30\n",
      "40/40 [==============================] - 0s 371us/step - loss: 0.2158 - acc: 0.9450\n",
      "Epoch 21/30\n",
      "40/40 [==============================] - 0s 305us/step - loss: 0.1894 - acc: 0.9500\n",
      "Epoch 22/30\n",
      "40/40 [==============================] - 0s 311us/step - loss: 0.1627 - acc: 0.9550\n",
      "Epoch 23/30\n",
      "40/40 [==============================] - 0s 350us/step - loss: 0.1378 - acc: 0.9700\n",
      "Epoch 24/30\n",
      "40/40 [==============================] - 0s 441us/step - loss: 0.1155 - acc: 0.9800\n",
      "Epoch 25/30\n",
      "40/40 [==============================] - 0s 360us/step - loss: 0.0934 - acc: 0.9900\n",
      "Epoch 26/30\n",
      "40/40 [==============================] - 0s 370us/step - loss: 0.0751 - acc: 0.9900\n",
      "Epoch 27/30\n",
      "40/40 [==============================] - 0s 384us/step - loss: 0.0587 - acc: 1.0000\n",
      "Epoch 28/30\n",
      "40/40 [==============================] - 0s 343us/step - loss: 0.0461 - acc: 1.0000\n",
      "Epoch 29/30\n",
      "40/40 [==============================] - 0s 403us/step - loss: 0.0360 - acc: 1.0000\n",
      "Epoch 30/30\n",
      "40/40 [==============================] - 0s 331us/step - loss: 0.0282 - acc: 1.0000\n"
     ]
    },
    {
     "data": {
      "text/plain": [
       "<tensorflow.python.keras.callbacks.History at 0x7f2abb20bac8>"
      ]
     },
     "execution_count": 11,
     "metadata": {},
     "output_type": "execute_result"
    }
   ],
   "source": [
    "model.fit(x=x_train, y=y_train, epochs=30)"
   ]
  },
  {
   "cell_type": "code",
   "execution_count": 12,
   "metadata": {},
   "outputs": [
    {
     "name": "stdout",
     "output_type": "stream",
     "text": [
      "10/10 [==============================] - 0s 6ms/step\n",
      "Loss = 0.68  and test accuracy = 0.78\n"
     ]
    }
   ],
   "source": [
    "test_loss, test_acc = model.evaluate(x_test, y_test)\n",
    "print('Loss = %.2f  and test accuracy = %.2f' % (test_loss, test_acc))"
   ]
  },
  {
   "cell_type": "code",
   "execution_count": 13,
   "metadata": {},
   "outputs": [
    {
     "data": {
      "text/plain": [
       "array([[0.00803457, 0.29191414, 0.06826521, 0.03567823, 0.10152549],\n",
       "       [0.03211179, 0.4531743 , 0.10631808, 0.0773826 , 0.09524003],\n",
       "       [0.6975581 , 0.02673708, 0.07784151, 0.02630389, 0.01813409],\n",
       "       [0.03265885, 0.15210047, 0.03571992, 0.19157644, 0.02535217],\n",
       "       [0.06136189, 0.21347149, 0.14523083, 0.11045967, 0.02498882],\n",
       "       [0.15205604, 0.3110408 , 0.26016113, 0.06849097, 0.0465335 ],\n",
       "       [0.09258208, 0.37675843, 0.14761288, 0.05586514, 0.00641896],\n",
       "       [0.04616815, 0.16396703, 0.10943025, 0.04748256, 0.2175592 ],\n",
       "       [0.44055447, 0.09731206, 0.13194409, 0.0600808 , 0.04749652],\n",
       "       [0.12554006, 0.04594212, 0.19889203, 0.19073395, 0.20170808]],\n",
       "      dtype=float32)"
      ]
     },
     "execution_count": 13,
     "metadata": {},
     "output_type": "execute_result"
    }
   ],
   "source": [
    "model.predict(x_test)"
   ]
  },
  {
   "cell_type": "code",
   "execution_count": 16,
   "metadata": {},
   "outputs": [],
   "source": [
    "get_3rd_layer_output = K.function([model.layers[0].input],\n",
    "                                  [model.layers[5].output])\n",
    "layer_output = get_3rd_layer_output([x_test[:1]])[0]"
   ]
  },
  {
   "cell_type": "code",
   "execution_count": 17,
   "metadata": {},
   "outputs": [
    {
     "data": {
      "text/plain": [
       "(1, 128)"
      ]
     },
     "execution_count": 17,
     "metadata": {},
     "output_type": "execute_result"
    }
   ],
   "source": [
    "layer_output.shape"
   ]
  },
  {
   "cell_type": "code",
   "execution_count": null,
   "metadata": {},
   "outputs": [],
   "source": []
  }
 ],
 "metadata": {
  "kernelspec": {
   "display_name": "Python 3",
   "language": "python",
   "name": "python3"
  },
  "language_info": {
   "codemirror_mode": {
    "name": "ipython",
    "version": 3
   },
   "file_extension": ".py",
   "mimetype": "text/x-python",
   "name": "python",
   "nbconvert_exporter": "python",
   "pygments_lexer": "ipython3",
   "version": "3.5.2"
  }
 },
 "nbformat": 4,
 "nbformat_minor": 2
}
